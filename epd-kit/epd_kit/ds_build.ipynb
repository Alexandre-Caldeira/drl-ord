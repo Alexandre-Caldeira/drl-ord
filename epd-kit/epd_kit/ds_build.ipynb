{
 "cells": [
  {
   "cell_type": "code",
   "execution_count": 1,
   "metadata": {},
   "outputs": [],
   "source": [
    "import numpy as np\n",
    "from scipy.io import loadmat  # this is the SciPy module that loads mat-files\n",
    "import matplotlib.pyplot as plt\n",
    "from datetime import datetime, date, time\n",
    "import pandas as pd\n",
    "import pickle"
   ]
  },
  {
   "cell_type": "code",
   "execution_count": null,
   "metadata": {},
   "outputs": [],
   "source": [
    "# 1 seg\n",
    "states_dict = {}\n",
    "\n",
    "for idx,snr_atual in enumerate([15,10,5,0,-5]):\n",
    "    path = 'C:/PPGEE/EEE935 Aprendizado por Reforço/TP2 RL/db_tp2/'\n",
    "    mat = loadmat(path+'states_vec_snr_'+str(snr_atual)+'.mat')  # load mat-file\n",
    "    states_dict[snr_atual] = mat['states_vec']  # variable in mat file\n",
    "\n",
    "# Save to file\n",
    "with open('states_dict.pkl', 'wb') as f:\n",
    "    pickle.dump(states_dict, f)"
   ]
  },
  {
   "cell_type": "code",
   "execution_count": 7,
   "metadata": {},
   "outputs": [
    {
     "ename": "KeyboardInterrupt",
     "evalue": "",
     "output_type": "error",
     "traceback": [
      "\u001b[1;31m---------------------------------------------------------------------------\u001b[0m",
      "\u001b[1;31mKeyboardInterrupt\u001b[0m                         Traceback (most recent call last)",
      "Cell \u001b[1;32mIn[7], line 15\u001b[0m\n\u001b[0;32m     13\u001b[0m \u001b[38;5;66;03m# Save to file\u001b[39;00m\n\u001b[0;32m     14\u001b[0m \u001b[38;5;28;01mwith\u001b[39;00m \u001b[38;5;28mopen\u001b[39m(\u001b[38;5;124m'\u001b[39m\u001b[38;5;124mfull_metrics_dict.pkl\u001b[39m\u001b[38;5;124m'\u001b[39m, \u001b[38;5;124m'\u001b[39m\u001b[38;5;124mwb\u001b[39m\u001b[38;5;124m'\u001b[39m) \u001b[38;5;28;01mas\u001b[39;00m f:\n\u001b[1;32m---> 15\u001b[0m     \u001b[43mpickle\u001b[49m\u001b[38;5;241;43m.\u001b[39;49m\u001b[43mdump\u001b[49m\u001b[43m(\u001b[49m\u001b[38;5;28;43mdict\u001b[39;49m\u001b[43m,\u001b[49m\u001b[43m \u001b[49m\u001b[43mf\u001b[49m\u001b[43m)\u001b[49m\n",
      "\u001b[1;31mKeyboardInterrupt\u001b[0m: "
     ]
    }
   ],
   "source": [
    "# estoura memoria\n",
    "# dict = {}\n",
    "# path = 'C:/PPGEE/EEE935 Aprendizado por Reforço/TP2 RL/db_tp2/'\n",
    "# for idx,snr_atual in enumerate([15,10,5,0,-5]):\n",
    "#     mat = loadmat(path+'msc_vec_snr_'+str(snr_atual)+'.mat')  # load mat-file\n",
    "#     dict[snr_atual,'msc'] = mat['msc_vec']  # variable in mat file\n",
    "\n",
    "#     mat = loadmat(path+'csm_vec_snr_'+str(snr_atual)+'.mat')  # load mat-file\n",
    "#     dict[snr_atual,'csm'] = mat['csm_vec']  # variable in mat file\n",
    "\n",
    "#     mat = loadmat(path+'gft_vec_snr_'+str(snr_atual)+'.mat')  # load mat-file\n",
    "#     dict[snr_atual,'gft'] = mat['gft_vec']  # variable in mat file\n",
    "\n",
    "# # Save to file\n",
    "# with open('full_metrics_dict.pkl', 'wb') as f:\n",
    "#     pickle.dump(dict, f)"
   ]
  },
  {
   "cell_type": "code",
   "execution_count": 8,
   "metadata": {},
   "outputs": [],
   "source": [
    "# 10 seg\n",
    "dict = {}\n",
    "path = 'C:/PPGEE/EEE935 Aprendizado por Reforço/TP2 RL/db_tp2/'\n",
    "for idx,snr_atual in enumerate([15,10,5,0,-5]):\n",
    "    mat = loadmat(path+'c_states_vec_snr_'+str(snr_atual)+'.mat')  # load mat-file\n",
    "    dict[snr_atual] = mat['c_states_vec']  # variable in mat file\n",
    "\n",
    "# Save to file\n",
    "with open('c_states_dict.pkl', 'wb') as f:\n",
    "    pickle.dump(dict, f)"
   ]
  },
  {
   "cell_type": "code",
   "execution_count": 2,
   "metadata": {},
   "outputs": [
    {
     "name": "stderr",
     "output_type": "stream",
     "text": [
      "ERROR:root:ERROR: MATLAB type not supported: function_handle_workspace, (uint32)\n",
      "ERROR:root:ERROR: MATLAB type not supported: function_handle_workspace, (uint32)\n"
     ]
    }
   ],
   "source": [
    "# 15min \n",
    "# (1min30 por loop)\n",
    "\n",
    "import mat73\n",
    "\n",
    "dict = {}\n",
    "path = 'C:/PPGEE/EEE935 Aprendizado por Reforço/TP2 RL/db_tp2/'\n",
    "for idx,snr_atual in enumerate([15,10]):\n",
    "    mat = mat73.loadmat(path+'snr_'+str(snr_atual)+'.mat')  # load mat-file\n",
    "    dict[snr_atual] = mat['signals_vec']  # variable in mat file\n",
    "    del mat\n",
    "\n",
    "# Save to file\n",
    "with open('signals_dict.pkl', 'wb') as f:\n",
    "    pickle.dump(dict, f)"
   ]
  },
  {
   "cell_type": "code",
   "execution_count": 3,
   "metadata": {},
   "outputs": [],
   "source": [
    "# 1 seg\n",
    "states_dict = {}\n",
    "\n",
    "for idx,snr_atual in enumerate([5,0,-5,-10,-15,-20,-25]):\n",
    "    path = 'C:/PPGEE/EEE935 Aprendizado por Reforço/TP2 RL/db_tp2/v2/'\n",
    "    mat = loadmat(path+'c_states_vec_snr_'+str(snr_atual)+'.mat')  # load mat-file\n",
    "    states_dict[snr_atual] = mat['c_states_vec']  # variable in mat file\n",
    "\n",
    "# Save to file\n",
    "with open('c_states_dict_v2.pkl', 'wb') as f:\n",
    "    pickle.dump(states_dict, f)"
   ]
  },
  {
   "cell_type": "markdown",
   "metadata": {},
   "source": [
    "## v2"
   ]
  },
  {
   "cell_type": "code",
   "execution_count": 4,
   "metadata": {},
   "outputs": [],
   "source": [
    "# 1 seg\n",
    "states_dict = {}\n",
    "\n",
    "for idx,snr_atual in enumerate([5,0,-5,-10,-15,-20,-25]):\n",
    "    path = 'C:/PPGEE/EEE935 Aprendizado por Reforço/TP2 RL/db_tp2/v2/'\n",
    "    mat = loadmat(path+'states_vec_snr_'+str(snr_atual)+'.mat')  # load mat-file\n",
    "    states_dict[snr_atual] = mat['states_vec']  # variable in mat file\n",
    "\n",
    "# Save to file\n",
    "with open('states_dict_v2.pkl', 'wb') as f:\n",
    "    pickle.dump(states_dict, f)"
   ]
  },
  {
   "cell_type": "code",
   "execution_count": 9,
   "metadata": {},
   "outputs": [],
   "source": [
    "# C:\\PPGEE\\EEE935 Aprendizado por Reforço\\TP2 RL\\db_tp2\\exp\n",
    "# c_states_vol_1_int_1\n",
    "path = 'C:/PPGEE/EEE935 Aprendizado por Reforço/TP2 RL/db_tp2/exp/'\n",
    "states_dict = {}\n",
    "\n",
    "for ivol in range(1,12):\n",
    "    for iint in range(1,6):\n",
    "        mat = loadmat(path+'c_states_vol_'+str(ivol)+'_int_'+str(iint)+'.mat')  # load mat-file\n",
    "        states_dict[ivol,iint] = mat['c_states_vec']  # variable in mat file\n",
    "\n",
    "# Save to file\n",
    "with open('c_states_dict_exp.pkl', 'wb') as f:\n",
    "    pickle.dump(states_dict, f)"
   ]
  },
  {
   "cell_type": "code",
   "execution_count": 4,
   "metadata": {},
   "outputs": [],
   "source": [
    "# 1 seg\n",
    "states_dict = {}\n",
    "\n",
    "# for idx,snr_atual in enumerate(15):\n",
    "snr_atual =15\n",
    "path = 'C:/PPGEE/EEE935 Aprendizado por Reforço/TP2 RL/db_tp2/v3/'\n",
    "mat = loadmat(path+'states_vec_snr_'+str(snr_atual)+'.mat')  # load mat-file\n",
    "states_dict[snr_atual] = mat['states_vec']  # variable in mat file\n",
    "\n",
    "# Save to file\n",
    "with open('states_dict_v3.pkl', 'wb') as f:\n",
    "    pickle.dump(states_dict, f)"
   ]
  },
  {
   "cell_type": "code",
   "execution_count": 5,
   "metadata": {},
   "outputs": [],
   "source": [
    "# 1 seg\n",
    "states_dict = {}\n",
    "\n",
    "# for idx,snr_atual in enumerate(15):\n",
    "snr_atual =15\n",
    "path = 'C:/PPGEE/EEE935 Aprendizado por Reforço/TP2 RL/db_tp2/v3/'\n",
    "mat = loadmat(path+'c_states_vec_snr_'+str(snr_atual)+'.mat')  # load mat-file\n",
    "states_dict[snr_atual] = mat['c_states_vec']  # variable in mat file\n",
    "\n",
    "# Save to file\n",
    "with open('c_states_dict_v3.pkl', 'wb') as f:\n",
    "    pickle.dump(states_dict, f)"
   ]
  },
  {
   "cell_type": "code",
   "execution_count": 3,
   "metadata": {},
   "outputs": [],
   "source": [
    "# 1 seg\n",
    "states_dict = {}\n",
    "\n",
    "for idx,snr_atual in enumerate([10, -20, -25, -30]):\n",
    "    path = 'C:/PPGEE/EEE935 Aprendizado por Reforço/TP2 RL/db_tp2/tp2_db_acer/'\n",
    "    mat = loadmat(path+'c_states_vec_snr_'+str(snr_atual)+'.mat')  # load mat-file\n",
    "    states_dict[snr_atual] = mat['c_states_vec']  # variable in mat file\n",
    "\n",
    "# Save to file\n",
    "with open('c_states_dict_acer.pkl', 'wb') as f:\n",
    "    pickle.dump(states_dict, f)"
   ]
  },
  {
   "cell_type": "code",
   "execution_count": 2,
   "metadata": {},
   "outputs": [],
   "source": [
    "# C:\\PPGEE\\EEE935 Aprendizado por Reforço\\TP2 RL\\db_tp2\\exp\n",
    "# c_states_vol_1_int_1\n",
    "path = 'C:/PPGEE/EEE935 Aprendizado por Reforço/TP2 RL/db_tp2/exp_filtrado/'\n",
    "states_dict = {}\n",
    "\n",
    "for ivol in range(1,12):\n",
    "    for iint in range(1,6):\n",
    "        mat = loadmat(path+'c_states_vol_'+str(ivol)+'_int_'+str(iint)+'.mat')  # load mat-file\n",
    "        states_dict[ivol,iint] = mat['c_states_vec']  # variable in mat file\n",
    "\n",
    "# Save to file\n",
    "with open('c_states_dict_exp_filt.pkl', 'wb') as f:\n",
    "    pickle.dump(states_dict, f)"
   ]
  },
  {
   "cell_type": "code",
   "execution_count": 22,
   "metadata": {},
   "outputs": [],
   "source": [
    "# 2mins\n",
    "states_dict = {}\n",
    "\n",
    "for idx,snr_atual in enumerate(np.arange(10,-25.5,step=-0.5)):\n",
    "    path = 'D:/tp2_db_acer_3/'\n",
    "\n",
    "    if str(snr_atual).split('.')[1]=='0':\n",
    "        snr_atual = int(snr_atual)\n",
    "\n",
    "    mat = loadmat(path+'c_states_vec_snr_'+str(snr_atual)+'.mat')  # load mat-file\n",
    "    states_dict[snr_atual] = mat['c_states_vec']  # variable in mat file\n",
    "\n",
    "# Save to file\n",
    "with open('c_states_dict_acer_v3.pkl', 'wb') as f:\n",
    "    pickle.dump(states_dict, f)"
   ]
  }
 ],
 "metadata": {
  "kernelspec": {
   "display_name": "epd_env",
   "language": "python",
   "name": "python3"
  },
  "language_info": {
   "codemirror_mode": {
    "name": "ipython",
    "version": 3
   },
   "file_extension": ".py",
   "mimetype": "text/x-python",
   "name": "python",
   "nbconvert_exporter": "python",
   "pygments_lexer": "ipython3",
   "version": "3.11.9"
  }
 },
 "nbformat": 4,
 "nbformat_minor": 2
}
